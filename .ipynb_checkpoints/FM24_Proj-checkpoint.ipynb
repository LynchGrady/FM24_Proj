{
 "cells": [
  {
   "cell_type": "markdown",
   "id": "0d4f48ab-6f8d-4608-9028-fc2150a7c5a0",
   "metadata": {},
   "source": [
    "# Football Manager 24 Newgen Data Project\n",
    "\n",
    "## \n",
    "project description\n",
    "\n",
    "project outline"
   ]
  },
  {
   "cell_type": "code",
   "execution_count": null,
   "id": "70803742-769b-46d7-8272-f9d10c493020",
   "metadata": {},
   "outputs": [],
   "source": []
  }
 ],
 "metadata": {
  "kernelspec": {
   "display_name": "Python 3 (ipykernel)",
   "language": "python",
   "name": "python3"
  },
  "language_info": {
   "codemirror_mode": {
    "name": "ipython",
    "version": 3
   },
   "file_extension": ".py",
   "mimetype": "text/x-python",
   "name": "python",
   "nbconvert_exporter": "python",
   "pygments_lexer": "ipython3",
   "version": "3.9.6"
  }
 },
 "nbformat": 4,
 "nbformat_minor": 5
}
