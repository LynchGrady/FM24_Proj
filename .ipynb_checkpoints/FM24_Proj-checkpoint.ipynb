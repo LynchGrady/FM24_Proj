{
 "cells": [
  {
   "cell_type": "markdown",
   "id": "0d4f48ab-6f8d-4608-9028-fc2150a7c5a0",
   "metadata": {},
   "source": [
    "# Football Manager 24 Newgen Data Project\n",
    "\n",
    "## \n",
    "Project description\n",
    "\n",
    "    Football Manager 24 is a video game where the player acts as the manager (coach) of a football (soccer) team. The game is single player, and the player progresses through a simulated timeline in the world of football. There are matches, training, press confrences, staff meetings, player interactions, and more. Importantly, the player does not controll their players during matches. The players controll is limited to that of a real manager. One very important job the player has is recruitment. What players can the manager bring in to improve the team within the budget.\n",
    "    Year by simulated year, as real players in the game get older and retire, the game generates new fake players. These players, called newgens, are generated in batches every simulated year, and are 15-16 years old. Finding and recruiting the newgens with the best attributes and most potential for improvement can be very tedious but rewarding.\n",
    "    The objective of this project is to take lots of data from a batch of 1000+ newgens, and apply filters and track trends in addition to other things.\n",
    "\n",
    "Project outline\n",
    "\n",
    "    Step 1. Getting the data\n",
    "        I can copy paste into a spreadsheet all of the data I want from the game. Then format the spreadsheet and read it into a pd.DataFrame.\n",
    "\n",
    "    Step 2. What do I want to find\n",
    "        a) Players with X total attributes\n",
    "            find and list players whos total attributes sum up to at least X\n",
    "             - additionally filter this for physical, mental, technical, or a select group of attributes\n",
    "                 (exclude less important thing from the total like 'long throws')\n",
    "                 (or just give it less weight toward the sum)\n",
    "                 \n",
    "        b) Players with X number of attributes that are minimum Y\n",
    "            the purpose of this would be to find more specialized players. Players that dont meet (a) requirements, but have something \n",
    "            like 18 pace, 17 strength, 19 technique for example.\n",
    "                - should exclude some attributes from this. it is common for bad players to still have very high agression, bravery, and \n",
    "                work rate ie.\n",
    "\n",
    "        c) Some kind of bargain filter\n",
    "            find players who would be less expensive\n",
    "                - Primarily, fillter out players who's 'value' attribute is over a certain threshold\n",
    "                - Also search for players who dont have a professional contract and can be approached for a free transfer."
   ]
  }
 ],
 "metadata": {
  "kernelspec": {
   "display_name": "Python 3 (ipykernel)",
   "language": "python",
   "name": "python3"
  },
  "language_info": {
   "codemirror_mode": {
    "name": "ipython",
    "version": 3
   },
   "file_extension": ".py",
   "mimetype": "text/x-python",
   "name": "python",
   "nbconvert_exporter": "python",
   "pygments_lexer": "ipython3",
   "version": "3.9.6"
  }
 },
 "nbformat": 4,
 "nbformat_minor": 5
}
