{
 "cells": [
  {
   "cell_type": "code",
   "execution_count": 1,
   "id": "8446a568-4e51-478a-b331-76f87ec8d99f",
   "metadata": {},
   "outputs": [],
   "source": [
    "import pandas as pd"
   ]
  },
  {
   "cell_type": "markdown",
   "id": "0d4f48ab-6f8d-4608-9028-fc2150a7c5a0",
   "metadata": {},
   "source": [
    "# Football Manager 24 Newgen Data Project\n",
    "\n",
    "## \n",
    "Project description\n",
    "\n",
    "    Football Manager 24 is a video game where the player acts as the manager (coach) of a football (soccer) team. The game is single player, and the player progresses through a simulated timeline in the world of football. There are matches, training, press confrences, staff meetings, player interactions, and more. Importantly, the player does not controll their players during matches. The players controll is limited to that of a real manager. One very important job the player has is recruitment. What players can the manager bring in to improve the team within the budget.\n",
    "    Year by simulated year, as real players in the game get older and retire, the game generates new fake players. These players, called newgens, are generated in batches every simulated year, and are 15-16 years old. Finding and recruiting the newgens with the best attributes and most potential for improvement can be very tedious but rewarding.\n",
    "    The objective of this project is to take lots of data from a batch of 1000+ newgens, and apply filters and track trends in addition to other things.\n"
   ]
  },
  {
   "cell_type": "code",
   "execution_count": 2,
   "id": "fad9535e-0b91-42e1-83fd-5f79e4e08804",
   "metadata": {},
   "outputs": [],
   "source": [
    "# Read HTML file from Football Manager into a list, then convert list to dataframe\n",
    "\n",
    "p_list = pd.read_html('file:///D:/lynch/Python/FM24_Proj/FM24_Data2.html', header = 0, encoding = \"utf-8\", keep_default_na = False)\n",
    "p = p_list[0]"
   ]
  },
  {
   "cell_type": "markdown",
   "id": "d535524d-831c-405b-8429-7cd9553ee2af",
   "metadata": {},
   "source": [
    "## 1) Filtering for total stats"
   ]
  },
  {
   "cell_type": "code",
   "execution_count": 3,
   "id": "b5338b46-4375-45d7-974c-6e395eeaba19",
   "metadata": {},
   "outputs": [
    {
     "name": "stdout",
     "output_type": "stream",
     "text": [
      "                   Name Transfer Value  totals\n",
      "1991      Haroldo Pavas  €180K - €1.8M     392\n",
      "1910   Darlinson Bustos  €750K - €1.5M     373\n",
      "982         Nuno Borges             €0     371\n",
      "1249          Txus Ribó   €20K - €200K     370\n",
      "4840  Anderson Tourinho   €75K - €750K     369\n",
      "1830        Raúl Beitia  €150K - €1.5M     369\n",
      "4891           Mateusão   €75K - €750K     364\n",
      "67     Nicolás Zeballos   €50K - €475K     362\n",
      "1639     Miguel Justino  €900K - €1.9M     362\n",
      "330           Diego Paz   €85K - €850K     361\n",
      "1135      Drissa Traoré  €600K - €1.2M     360\n",
      "1044   Younes Belkhayat   €10K - €100K     359\n",
      "1388    Marcos Bermúdez   €60K - €600K     358\n",
      "1959    Islam Hammouche  €210K - €600K     357\n",
      "4647     Mikko Lindholm  €110K - €1.1M     357\n",
      "4546        Tomás Ávila   €35K - €350K     357\n",
      "50        Esteban Ramos  €950K - €1.9M     356\n",
      "1190      Kévin Lachaud  €550K - €1.5M     355\n",
      "1265   Daniel Teichmann  €250K - €700K     355\n",
      "1495      Oussama Thijs  €130K - €1.3M     354\n",
      "747          Issa Jaber  €210K - €2.1M     354\n",
      "5631  Robin Klein-Beuck   €80K - €800K     354\n",
      "2754      Ben Verlinden  €230K - €650K     354\n",
      "1482     Lorenzo Tufano  €140K - €1.4M     354\n",
      "1313        Luis Miguel  €850K - €1.7M     354\n",
      "179          Asil Akman   €18K - €190K     353\n",
      "1647          Mo Chadli   €26K - €275K     353\n",
      "1029        Yohan Lafon   €14K - €140K     353\n",
      "2019     Simone Papagni  €475K - €1.3M     352\n",
      "4682   Danillo da Silva   €50K - €475K     352\n"
     ]
    }
   ],
   "source": [
    "# Add a column for the sum of the players stats\n",
    "\n",
    "p = p.assign(totals = p.Acc + p.Bal + p.Agi + p.Str + p.Sta + p.Pac + p.Nat + p.Jum + p.Bra + p.Ant + p.Agg + p.Cmp + p.Det + p.Dec + p.Cnt + p.Fla + p.Ldr + p.OtB + p.Pos + p.Vis + p.Wor + p.Tea + p.Cor + p.Cro + p.Dri + p.Fin + p.Fre + p.Hea + p.Fir + p.Lon + p['L Th'] + p.Mar + p.Pas + p.Pen + p.Tck + p. Tec)\n",
    "\n",
    "# Sort player by total stats and print top 30\n",
    "\n",
    "p = p.sort_values(by = 'totals', ascending = False)\n",
    "print((p.iloc[0:30]).loc[:, ['Name', 'Transfer Value', 'totals']])"
   ]
  },
  {
   "cell_type": "code",
   "execution_count": 4,
   "id": "f5e4f0a1-9649-4fd2-bae4-62e6b1727eb7",
   "metadata": {},
   "outputs": [],
   "source": [
    "# Add colums for total stats divided into physical, mental, and technical stats\n",
    "\n",
    "p = p.assign(physical_totals = p.Acc + p.Bal + p.Agi + p.Str + p.Sta + p.Pac + p.Nat + p.Jum)\n",
    "\n",
    "p = p.assign(mental_totals = p.Bra + p.Ant + p.Agg + p.Cmp + p.Det + p.Dec + p.Cnt + p.Fla + p.Ldr + p.OtB + p.Pos + p.Vis + p.Wor + p.Tea)\n",
    "\n",
    "p = p.assign(technical_totals = p.Cor + p.Cro + p.Dri + p.Fin + p.Fre + p.Hea + p.Fir + p.Lon + p['L Th'] + p.Mar + p.Pas + p.Pen + p.Tck + p. Tec)"
   ]
  },
  {
   "cell_type": "markdown",
   "id": "5b46132e-b80c-40d4-852a-a11b7db839c5",
   "metadata": {},
   "source": [
    "## 2) Search for and display players with high ability in at least 3 important catagories"
   ]
  },
  {
   "cell_type": "code",
   "execution_count": 5,
   "id": "f0fd9088-3dc7-40bd-aaf8-632fd840cb6b",
   "metadata": {},
   "outputs": [],
   "source": [
    "# Create copy of our dataframe without certain columns\n",
    "\n",
    "p_focused = p\n",
    "p_focused.drop(['L Th', 'Bra', 'Agg', 'physical_totals', 'mental_totals', 'technical_totals', 'Rec', 'Inf'], axis = 1, inplace = True)"
   ]
  },
  {
   "cell_type": "code",
   "execution_count": 6,
   "id": "2b133df6-ed73-45be-a504-c0076f0da623",
   "metadata": {},
   "outputs": [
    {
     "name": "stdout",
     "output_type": "stream",
     "text": [
      "Haroldo Pavas {'Nat': 16, 'Fla': 16, 'Tec': 16}\n",
      "Darlinson Bustos {'Det': 18, 'Wor': 17, 'Tea': 17, 'Tec': 16}\n",
      "Txus Ribó {'Ldr': 16, 'Tea': 17, 'Fir': 16}\n",
      "Danillo da Silva {'Bal': 16, 'Dri': 16, 'Tec': 16}\n",
      "Joshua Ernst {'Fla': 18, 'Wor': 16, 'Tea': 17}\n",
      "Slađan Mitić {'Jum': 16, 'Tea': 16, 'Tck': 16}\n",
      "Diego {'Bal': 16, 'Det': 16, 'Wor': 16}\n",
      "Sérgio Roberto Mücke {'Nat': 17, 'Det': 18, 'Wor': 16, 'Tea': 17}\n",
      "Samuel Issah {'Fla': 16, 'Vis': 16, 'Fir': 16}\n",
      "David Tienza {'Bal': 16, 'Nat': 17, 'Det': 19}\n",
      "Vinicius Silva {'Wor': 18, 'Tea': 17, 'Tck': 17}\n",
      "Geslin Moke {'Bal': 16, 'Wor': 16, 'Tea': 16}\n",
      "Claudio {'Nat': 16, 'Fla': 16, 'Tea': 16}\n",
      "Clécio {'Nat': 16, 'Det': 19, 'Wor': 16, 'Tea': 18}\n",
      "Samuel Boateng {'Bal': 16, 'Det': 17, 'Tea': 16}\n",
      "Luis Ammesdörfer {'Det': 17, 'Wor': 17, 'Tea': 16}\n",
      "Lucas {'Bal': 16, 'Det': 19, 'Tea': 19}\n",
      "Aboubacar Kouyaté {'Det': 17, 'Wor': 16, 'Tea': 17}\n",
      "Thomas Buisson {'Nat': 16, 'Wor': 17, 'Tea': 18}\n",
      "Da Silva {'Det': 17, 'Wor': 16, 'Tea': 18}\n",
      "Karl-Heinz Schimmel {'Det': 16, 'Wor': 17, 'Tea': 19}\n",
      "Santos {'Det': 17, 'Wor': 16, 'Tea': 18}\n",
      "Amund Storvik {'Bal': 16, 'Jum': 16, 'Tea': 16}\n",
      "Danilo Pereira {'Det': 18, 'Fla': 17, 'Tec': 17}\n",
      "Ali Marchetti {'Nat': 16, 'Det': 17, 'Tea': 17}\n",
      "Lars Hollwitz {'Nat': 16, 'Wor': 16, 'Tea': 18}\n",
      "Alfred Gratacós {'Nat': 16, 'Det': 17, 'Tea': 18}\n",
      "Roberto Chiari {'Nat': 16, 'Wor': 17, 'Tea': 19}\n",
      "Givanildo de Lima {'Nat': 17, 'Wor': 16, 'Tea': 17}\n",
      "Thore Selnæs {'Nat': 16, 'Det': 16, 'Tea': 17}\n",
      "Doménec Sayabera {'Nat': 16, 'Fla': 16, 'Tec': 16}\n"
     ]
    }
   ],
   "source": [
    "# Add players with 3+ attributes >= 16 to a dictionary\n",
    "\n",
    "counter = 0\n",
    "attributes_to_check = ['Acc', 'Bal', 'Agi', 'Str', 'Sta', 'Pac', 'Nat', 'Jum', 'Ant', 'Cmp', 'Det', 'Dec', 'Cnt', 'Fla', 'Ldr', 'OtB', 'Pos', 'Vis', 'Wor', 'Tea', 'Cor', 'Cro', 'Dri', 'Fin', 'Fre', 'Hea', 'Fir', 'Lon', 'Mar', 'Pas', 'Pen', 'Tck', 'Tec']\n",
    "players = {}\n",
    "top_stats = {}\n",
    "\n",
    "for i in range(0, len(p_focused.index)):\n",
    "\n",
    "    for attribute in attributes_to_check:\n",
    "\n",
    "        if p_focused.iloc[i][attribute] >= 16:\n",
    "\n",
    "            top_stats[attribute] = p_focused.iloc[i][attribute]\n",
    "\n",
    "            counter += 1\n",
    "\n",
    "    if counter >= 3:\n",
    "\n",
    "        players[p_focused.iloc[i]['Name']] = top_stats\n",
    "\n",
    "    counter = 0\n",
    "    top_stats = {}\n",
    "\n",
    "for k,v in players.items():\n",
    "    print(k, v)"
   ]
  },
  {
   "cell_type": "code",
   "execution_count": null,
   "id": "0eb18a21-a8b6-4ba6-8748-b08ae80d30b1",
   "metadata": {},
   "outputs": [],
   "source": []
  }
 ],
 "metadata": {
  "kernelspec": {
   "display_name": "Python 3 (ipykernel)",
   "language": "python",
   "name": "python3"
  },
  "language_info": {
   "codemirror_mode": {
    "name": "ipython",
    "version": 3
   },
   "file_extension": ".py",
   "mimetype": "text/x-python",
   "name": "python",
   "nbconvert_exporter": "python",
   "pygments_lexer": "ipython3",
   "version": "3.9.6"
  }
 },
 "nbformat": 4,
 "nbformat_minor": 5
}
